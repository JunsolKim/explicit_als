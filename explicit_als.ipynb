{
  "nbformat": 4,
  "nbformat_minor": 0,
  "metadata": {
    "colab": {
      "provenance": [],
      "authorship_tag": "ABX9TyOiu64dGKVCCn7oVxD05pPP",
      "include_colab_link": true
    },
    "kernelspec": {
      "name": "python3",
      "display_name": "Python 3"
    },
    "language_info": {
      "name": "python"
    }
  },
  "cells": [
    {
      "cell_type": "markdown",
      "metadata": {
        "id": "view-in-github",
        "colab_type": "text"
      },
      "source": [
        "<a href=\"https://colab.research.google.com/github/JunsolKim/explicit_als/blob/main/explicit_als.ipynb\" target=\"_parent\"><img src=\"https://colab.research.google.com/assets/colab-badge.svg\" alt=\"Open In Colab\"/></a>"
      ]
    },
    {
      "cell_type": "code",
      "source": [
        "import numpy as np\n",
        "import pandas as pd\n",
        "from scipy.sparse import csr_matrix, diags\n",
        "from sklearn.preprocessing import LabelEncoder\n",
        "from sklearn.model_selection import train_test_split\n",
        "from tqdm.auto import tqdm\n",
        "from scipy.stats import pearsonr\n",
        "from sklearn.metrics import mean_squared_error\n",
        "\n",
        "np.random.seed(42)"
      ],
      "metadata": {
        "id": "EIK6VGZpJtUF"
      },
      "execution_count": 111,
      "outputs": []
    },
    {
      "cell_type": "markdown",
      "source": [
        "# Load MovieLens 1M data"
      ],
      "metadata": {
        "id": "5-yYkr7srBbx"
      }
    },
    {
      "cell_type": "code",
      "source": [
        "!wget -O ml-1m.zip https://files.grouplens.org/datasets/movielens/ml-1m.zip"
      ],
      "metadata": {
        "id": "zBifwiq1J4ad"
      },
      "execution_count": null,
      "outputs": []
    },
    {
      "cell_type": "code",
      "source": [
        "le_user = LabelEncoder()\n",
        "le_item = LabelEncoder()\n",
        "\n",
        "df = pd.read_csv('./ml-1m/ratings.dat', names=['user', 'item', 'rating', 'time'], header=None, sep='::')\n",
        "df['userid'] = le_user.fit_transform(df.user)\n",
        "df['itemid'] = le_item.fit_transform(df.item)"
      ],
      "metadata": {
        "id": "3vq7TrnPJ7Jx"
      },
      "execution_count": null,
      "outputs": []
    },
    {
      "cell_type": "code",
      "source": [
        "train, test = train_test_split(df, train_size=0.9)"
      ],
      "metadata": {
        "id": "SGxH_bhX9TsY"
      },
      "execution_count": 105,
      "outputs": []
    },
    {
      "cell_type": "code",
      "source": [
        "# Create an explicit feedback matrix\n",
        "ratings = csr_matrix((train.rating, (train.userid, train.itemid)), shape=(train.userid.max()+1, train.itemid.max()+1))"
      ],
      "metadata": {
        "id": "LPWZpqH-KL8r"
      },
      "execution_count": 106,
      "outputs": []
    },
    {
      "cell_type": "markdown",
      "source": [
        "# Define the matrix factorization model"
      ],
      "metadata": {
        "id": "Oovs1-Z6rEMU"
      }
    },
    {
      "cell_type": "code",
      "execution_count": 107,
      "metadata": {
        "id": "W1XbDc2LD4cy"
      },
      "outputs": [],
      "source": [
        "class ExplicitALS():\n",
        "    def fit(self, ratings, n_factors=20, r_lambda=0.01, n_iter=15):\n",
        "        \"\"\"\n",
        "        Train a matrix factorization model to predict empty \n",
        "        ratings (explicit ratings) in a matrix.\n",
        "        \n",
        "        User latent factors (X) and item latent factors (Y) \n",
        "        are created.\n",
        "        \n",
        "        Parameters\n",
        "        ----------\n",
        "        ratings: (scipy.sparse.csr_matrix)\n",
        "            \n",
        "        n_factors : (int)\n",
        "            Number of latent factors to use in matrix \n",
        "            factorization model. The default is 20.\n",
        "        r_lambda : (float)\n",
        "            Regularization term for user and item latent factors. \n",
        "            The default is 0.01.\n",
        "        n_iter : (int)\n",
        "            The number of iterations. The default is 15.\n",
        "        \"\"\"\n",
        "        self.ratings = ratings\n",
        "        self.C = (ratings > 0).astype(int)\n",
        "        self.n_users = ratings.shape[0]\n",
        "        self.n_items = ratings.shape[1]\n",
        "        self.n_factors = n_factors\n",
        "        self.r_lambda = r_lambda\n",
        "\n",
        "        # initialize latent vectors with small values\n",
        "        X = np.random.normal(scale=1./self.n_factors, size=(self.n_users, self.n_factors))\n",
        "        Y = np.random.normal(scale=1./self.n_factors, size=(self.n_items, self.n_factors))\n",
        "        \n",
        "        for i in range(n_iter):\n",
        "            print(f\"Epoch {i}:\")\n",
        "            X = self._optimize_user(X, Y)\n",
        "            Y = self._optimize_item(X, Y)\n",
        "        self.X = X\n",
        "        self.Y = Y\n",
        "\n",
        "    def _optimize_user(self, X, Y):\n",
        "        # optimize user latent factors\n",
        "        lambda_I = self.r_lambda * np.identity(self.n_factors)\n",
        "        for u in tqdm(range(self.n_users)):\n",
        "            cU = diags(self.C[u].todense().A1)\n",
        "            pU = self.ratings[u, :].todense().A1\n",
        "            yT_cU = cU.T.dot(Y).T # Y.T.dot(cU)\n",
        "            yT_cU_y = yT_cU.dot(Y)\n",
        "            yT_cU_pU = yT_cU.dot(pU)\n",
        "            X[u] = np.linalg.solve(yT_cU_y + lambda_I, yT_cU_pU)\n",
        "        return X\n",
        "    \n",
        "    def _optimize_item(self, X, Y):\n",
        "        # optimize item latent factors\n",
        "        lambda_I = self.r_lambda * np.identity(self.n_factors)\n",
        "        for i in tqdm(range(self.n_items)):\n",
        "            cI = diags(self.C[:, i].todense().A1)\n",
        "            pI = self.ratings[:, i].todense().A1\n",
        "            xT_cI = cI.T.dot(X).T # Y.T.dot(CI)\n",
        "            xT_cI_x = xT_cI.dot(X)\n",
        "            xT_cI_pI = xT_cI.dot(pI)\n",
        "            Y[i] = np.linalg.solve(xT_cI_x + lambda_I, xT_cI_pI)\n",
        "        return Y"
      ]
    },
    {
      "cell_type": "code",
      "source": [
        "als = ExplicitALS()"
      ],
      "metadata": {
        "id": "Q3ESXW3FJrfc"
      },
      "execution_count": 108,
      "outputs": []
    },
    {
      "cell_type": "code",
      "source": [
        "als.fit(ratings)"
      ],
      "metadata": {
        "id": "5BqeotzpPUa4"
      },
      "execution_count": null,
      "outputs": []
    },
    {
      "cell_type": "markdown",
      "source": [
        "# Predictions"
      ],
      "metadata": {
        "id": "sH0W-c8y97ud"
      }
    },
    {
      "cell_type": "code",
      "source": [
        "# each element is a predicted rating of user u on item i\n",
        "predictions = als.X.dot(als.Y.T) "
      ],
      "metadata": {
        "id": "Wh06q6sNtAtL"
      },
      "execution_count": 112,
      "outputs": []
    },
    {
      "cell_type": "code",
      "source": [
        "test_predictions = predictions[test.userid, test.itemid]\n",
        "test_observations = test.rating\n",
        "results = pd.DataFrame({'test_predictions': test_predictions, \n",
        "                        'test_observations': test_observations})\n",
        "results.loc[results.test_predictions < 1, 'test_predictions'] = 1 # apply caps to fix the range\n",
        "results.loc[results.test_predictions > 5, 'test_predictions'] = 5"
      ],
      "metadata": {
        "id": "XAPZtsLa-fDo"
      },
      "execution_count": 121,
      "outputs": []
    },
    {
      "cell_type": "code",
      "source": [
        "pearsonr(test_observations, test_predictions)"
      ],
      "metadata": {
        "id": "tMzXa4ta_F2G",
        "outputId": "58fb2227-0620-4a65-8a36-72644106557d",
        "colab": {
          "base_uri": "https://localhost:8080/"
        }
      },
      "execution_count": 114,
      "outputs": [
        {
          "output_type": "execute_result",
          "data": {
            "text/plain": [
              "(0.519139199638336, 0.0)"
            ]
          },
          "metadata": {},
          "execution_count": 114
        }
      ]
    },
    {
      "cell_type": "code",
      "source": [
        "mean_squared_error(test_observations, test_predictions)"
      ],
      "metadata": {
        "id": "RGOLfdPf-pdH",
        "outputId": "0fe1c759-0b00-4677-8e77-906ff6eeab0b",
        "colab": {
          "base_uri": "https://localhost:8080/"
        }
      },
      "execution_count": 115,
      "outputs": [
        {
          "output_type": "execute_result",
          "data": {
            "text/plain": [
              "1.1382467256672115"
            ]
          },
          "metadata": {},
          "execution_count": 115
        }
      ]
    },
    {
      "cell_type": "code",
      "source": [
        "import seaborn as sns\n",
        "sns.boxplot(x='test_observations', y='test_predictions', data=results)"
      ],
      "metadata": {
        "id": "I1QAYnKv_cvQ",
        "outputId": "e4a84319-32b7-4c2a-ea31-bd71136e71d8",
        "colab": {
          "base_uri": "https://localhost:8080/",
          "height": 298
        }
      },
      "execution_count": 125,
      "outputs": [
        {
          "output_type": "execute_result",
          "data": {
            "text/plain": [
              "<matplotlib.axes._subplots.AxesSubplot at 0x7f9b74d54350>"
            ]
          },
          "metadata": {},
          "execution_count": 125
        },
        {
          "output_type": "display_data",
          "data": {
            "text/plain": [
              "<Figure size 432x288 with 1 Axes>"
            ],
            "image/png": "[encoded data removed]"
          },
          "metadata": {
            "needs_background": "light"
          }
        }
      ]
    }
  ]
}